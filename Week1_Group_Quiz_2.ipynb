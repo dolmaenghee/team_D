{
  "nbformat": 4,
  "nbformat_minor": 0,
  "metadata": {
    "colab": {
      "provenance": [],
      "include_colab_link": true
    },
    "kernelspec": {
      "name": "python3",
      "display_name": "Python 3"
    },
    "language_info": {
      "name": "python"
    }
  },
  "cells": [
    {
      "cell_type": "markdown",
      "metadata": {
        "id": "view-in-github",
        "colab_type": "text"
      },
      "source": [
        "<a href=\"https://colab.research.google.com/github/dolmaenghee/team_D/blob/main/Week1_Group_Quiz_2.ipynb\" target=\"_parent\"><img src=\"https://colab.research.google.com/assets/colab-badge.svg\" alt=\"Open In Colab\"/></a>"
      ]
    },
    {
      "cell_type": "code",
      "source": [
        "from google.colab import drive\n",
        "drive.mount('/content/drive')"
      ],
      "metadata": {
        "colab": {
          "base_uri": "https://localhost:8080/"
        },
        "id": "Hl3kn8_fLIMk",
        "outputId": "ba54ef05-e181-407e-d8ac-d9df5adfeb5e"
      },
      "execution_count": null,
      "outputs": [
        {
          "output_type": "stream",
          "name": "stdout",
          "text": [
            "Mounted at /content/drive\n"
          ]
        }
      ]
    },
    {
      "cell_type": "code",
      "source": [
        "%cd /content/drive/MyDrive/딥러닝스터디D조"
      ],
      "metadata": {
        "colab": {
          "base_uri": "https://localhost:8080/"
        },
        "id": "vQy8mzNrLL6D",
        "outputId": "88f7a482-6031-400f-dfd2-793411aa9e96"
      },
      "execution_count": null,
      "outputs": [
        {
          "output_type": "stream",
          "name": "stdout",
          "text": [
            "/content/drive/.shortcut-targets-by-id/1X7EGLZnMHnL1o_QChtkT4wfqTT9Wsos6/딥러닝스터디D조\n"
          ]
        }
      ]
    },
    {
      "cell_type": "code",
      "execution_count": null,
      "metadata": {
        "id": "8WD9DJ-5HzdW"
      },
      "outputs": [],
      "source": [
        "import numpy as np\n",
        "import torch\n",
        "import pickle\n",
        "with open('quiz_data.pkl', 'rb') as f:\n",
        "    data = pickle.load(f)"
      ]
    },
    {
      "cell_type": "code",
      "source": [
        "data"
      ],
      "metadata": {
        "colab": {
          "base_uri": "https://localhost:8080/"
        },
        "id": "WztqzollOalj",
        "outputId": "a9e95b0e-a7f1-4b02-ad78-588bbd71e8d4"
      },
      "execution_count": null,
      "outputs": [
        {
          "output_type": "execute_result",
          "data": {
            "text/plain": [
              "{'x': array([[0.37454012],\n",
              "        [0.95071431],\n",
              "        [0.73199394],\n",
              "        [0.59865848],\n",
              "        [0.15601864],\n",
              "        [0.15599452],\n",
              "        [0.05808361],\n",
              "        [0.86617615],\n",
              "        [0.60111501],\n",
              "        [0.70807258],\n",
              "        [0.02058449],\n",
              "        [0.96990985],\n",
              "        [0.83244264],\n",
              "        [0.21233911],\n",
              "        [0.18182497],\n",
              "        [0.18340451],\n",
              "        [0.30424224],\n",
              "        [0.52475643],\n",
              "        [0.43194502],\n",
              "        [0.29122914],\n",
              "        [0.61185289],\n",
              "        [0.13949386],\n",
              "        [0.29214465],\n",
              "        [0.36636184],\n",
              "        [0.45606998],\n",
              "        [0.78517596],\n",
              "        [0.19967378],\n",
              "        [0.51423444],\n",
              "        [0.59241457],\n",
              "        [0.04645041],\n",
              "        [0.60754485],\n",
              "        [0.17052412],\n",
              "        [0.06505159],\n",
              "        [0.94888554],\n",
              "        [0.96563203],\n",
              "        [0.80839735],\n",
              "        [0.30461377],\n",
              "        [0.09767211],\n",
              "        [0.68423303],\n",
              "        [0.44015249],\n",
              "        [0.12203823],\n",
              "        [0.49517691],\n",
              "        [0.03438852],\n",
              "        [0.9093204 ],\n",
              "        [0.25877998],\n",
              "        [0.66252228],\n",
              "        [0.31171108],\n",
              "        [0.52006802],\n",
              "        [0.54671028],\n",
              "        [0.18485446],\n",
              "        [0.96958463],\n",
              "        [0.77513282],\n",
              "        [0.93949894],\n",
              "        [0.89482735],\n",
              "        [0.59789998],\n",
              "        [0.92187424],\n",
              "        [0.0884925 ],\n",
              "        [0.19598286],\n",
              "        [0.04522729],\n",
              "        [0.32533033],\n",
              "        [0.38867729],\n",
              "        [0.27134903],\n",
              "        [0.82873751],\n",
              "        [0.35675333],\n",
              "        [0.28093451],\n",
              "        [0.54269608],\n",
              "        [0.14092422],\n",
              "        [0.80219698],\n",
              "        [0.07455064],\n",
              "        [0.98688694],\n",
              "        [0.77224477],\n",
              "        [0.19871568],\n",
              "        [0.00552212],\n",
              "        [0.81546143],\n",
              "        [0.70685734],\n",
              "        [0.72900717],\n",
              "        [0.77127035],\n",
              "        [0.07404465],\n",
              "        [0.35846573],\n",
              "        [0.11586906],\n",
              "        [0.86310343],\n",
              "        [0.62329813],\n",
              "        [0.33089802],\n",
              "        [0.06355835],\n",
              "        [0.31098232],\n",
              "        [0.32518332],\n",
              "        [0.72960618],\n",
              "        [0.63755747],\n",
              "        [0.88721274],\n",
              "        [0.47221493],\n",
              "        [0.11959425],\n",
              "        [0.71324479],\n",
              "        [0.76078505],\n",
              "        [0.5612772 ],\n",
              "        [0.77096718],\n",
              "        [0.4937956 ],\n",
              "        [0.52273283],\n",
              "        [0.42754102],\n",
              "        [0.02541913],\n",
              "        [0.10789143]]),\n",
              " 'y': array([[ 0.39740272],\n",
              "        [-0.80659469],\n",
              "        [-0.57963137],\n",
              "        [-0.32014731],\n",
              "        [-0.30604728],\n",
              "        [-0.24852583],\n",
              "        [-1.01513649],\n",
              "        [-0.88464384],\n",
              "        [-0.21122138],\n",
              "        [-0.56400827],\n",
              "        [-1.7572808 ],\n",
              "        [-0.70538406],\n",
              "        [-0.85895685],\n",
              "        [ 0.07962529],\n",
              "        [-0.11814555],\n",
              "        [-0.02216425],\n",
              "        [ 0.25552963],\n",
              "        [ 0.09771934],\n",
              "        [ 0.30588558],\n",
              "        [ 0.15249783],\n",
              "        [-0.14021974],\n",
              "        [-0.37066187],\n",
              "        [ 0.30141278],\n",
              "        [ 0.36479936],\n",
              "        [ 0.16292608],\n",
              "        [-0.76869594],\n",
              "        [-0.06715923],\n",
              "        [ 0.08165268],\n",
              "        [-0.11478902],\n",
              "        [-1.28560927],\n",
              "        [ 0.03465185],\n",
              "        [-0.17597336],\n",
              "        [-1.05011945],\n",
              "        [-0.78730071],\n",
              "        [-0.93952918],\n",
              "        [-0.77396765],\n",
              "        [ 0.33245372],\n",
              "        [-0.48877083],\n",
              "        [-0.45248586],\n",
              "        [ 0.3627963 ],\n",
              "        [-0.53126193],\n",
              "        [ 0.09789998],\n",
              "        [-1.41588552],\n",
              "        [-0.7517937 ],\n",
              "        [ 0.28930683],\n",
              "        [-0.44708815],\n",
              "        [ 0.47924073],\n",
              "        [ 0.00446956],\n",
              "        [ 0.1193383 ],\n",
              "        [ 0.10804461],\n",
              "        [-0.83804352],\n",
              "        [-0.76078996],\n",
              "        [-0.7847511 ],\n",
              "        [-0.88450263],\n",
              "        [-0.27368766],\n",
              "        [-0.80957073],\n",
              "        [-0.92846448],\n",
              "        [-0.00431916],\n",
              "        [-1.43673296],\n",
              "        [ 0.51398353],\n",
              "        [ 0.30707671],\n",
              "        [ 0.21602728],\n",
              "        [-0.72009926],\n",
              "        [ 0.26240732],\n",
              "        [ 0.2968344 ],\n",
              "        [ 0.20453271],\n",
              "        [-0.54734397],\n",
              "        [-0.74195656],\n",
              "        [-0.94079815],\n",
              "        [-0.61815339],\n",
              "        [-0.82106208],\n",
              "        [-0.16976921],\n",
              "        [-2.52243241],\n",
              "        [-0.7530741 ],\n",
              "        [-0.48480355],\n",
              "        [-0.54517783],\n",
              "        [-0.76304493],\n",
              "        [-0.94913078],\n",
              "        [ 0.41547332],\n",
              "        [-0.64880024],\n",
              "        [-0.64490126],\n",
              "        [-0.16473111],\n",
              "        [ 0.24654264],\n",
              "        [-1.02832088],\n",
              "        [ 0.24027291],\n",
              "        [ 0.43751032],\n",
              "        [-0.46577423],\n",
              "        [-0.34689705],\n",
              "        [-0.73945132],\n",
              "        [ 0.31204725],\n",
              "        [-0.46500726],\n",
              "        [-0.34091873],\n",
              "        [-0.69355634],\n",
              "        [-0.06379239],\n",
              "        [-0.78326735],\n",
              "        [ 0.13680493],\n",
              "        [ 0.12892567],\n",
              "        [ 0.3852903 ],\n",
              "        [-1.69389652],\n",
              "        [-0.56155958]])}"
            ]
          },
          "metadata": {},
          "execution_count": 80
        }
      ]
    },
    {
      "cell_type": "code",
      "source": [
        "import time  #decorater - 함수의 시행시간을 동시에 측정할 수 있음\n",
        "def timer(func):\n",
        "  def wrapper(*args, **kwargs):\n",
        "    start_time = time.time()\n",
        "    result = func(*args, **kwargs)\n",
        "    end_time = time.time()\n",
        "    computation_time = end_time - start_time\n",
        "    print(f\"Execution time of {func.__name__}: {computation_time} seconds\")\n",
        "    return result\n",
        "  return wrapper"
      ],
      "metadata": {
        "id": "B6NKtw5TLSPE"
      },
      "execution_count": null,
      "outputs": []
    },
    {
      "cell_type": "code",
      "source": [
        "idx = data\n",
        "split_index = int(len(data['x'])*0.8)"
      ],
      "metadata": {
        "id": "8asXjWe7O6JH"
      },
      "execution_count": null,
      "outputs": []
    },
    {
      "cell_type": "code",
      "source": [
        "x = data[\"x\"]\n",
        "y = data[\"y\"]\n",
        "\n",
        "x_train = x[:split_index]\n",
        "y_train = y[:split_index]\n",
        "x_val = x[split_index:]\n",
        "y_val = y[split_index:]"
      ],
      "metadata": {
        "id": "32qc8sv8PDd2"
      },
      "execution_count": null,
      "outputs": []
    },
    {
      "cell_type": "code",
      "source": [
        "x_train_tensor = torch.as_tensor(x_train)\n",
        "y_train_tensor = torch.as_tensor(y_train)\n",
        "x_val_tensor = torch.as_tensor(x_val)\n",
        "y_val_tensor = torch.as_tensor(y_val)\n",
        "\n",
        "device = 'cuda' if torch.cuda.is_available() else 'cpu' #GPU device를 사용하라는 뜻\n",
        "x_train_tensor = torch.as_tensor(x_train).to(device)\n",
        "y_train_tensor = torch.as_tensor(y_train).to(device)\n",
        "x_val_tensor = torch.as_tensor(x_val).to(device)\n",
        "y_val_tensor = torch.as_tensor(y_val).to(device)"
      ],
      "metadata": {
        "id": "4JfWst8TQJEX"
      },
      "execution_count": null,
      "outputs": []
    },
    {
      "cell_type": "code",
      "source": [
        "import torch.optim as optim\n",
        "import torch.nn as nn"
      ],
      "metadata": {
        "id": "G-uIEDIlQcm0"
      },
      "execution_count": null,
      "outputs": []
    },
    {
      "cell_type": "code",
      "source": [],
      "metadata": {
        "id": "AWjL0YCOQZOI"
      },
      "execution_count": null,
      "outputs": []
    },
    {
      "cell_type": "code",
      "source": [
        "@timer\n",
        "def train_model_torch_optim(lr=0.1, epochs=1000):\n",
        "  b = torch.randn(1, requires_grad=True, dtype=torch.float, device=device)\n",
        "  w = torch.randn(1, requires_grad=True, dtype=torch.float, device=device)\n",
        "  w2 = torch.randn(1, requires_grad=True, dtype=torch.float, device=device)\n",
        "  w3 = torch.randn(1, requires_grad=True, dtype=torch.float, device=device)\n",
        "  w4 = torch.randn(1, requires_grad=True, dtype=torch.float, device=device)\n",
        "  w5 = torch.randn(1, requires_grad=True, dtype=torch.float, device=device)\n",
        "\n",
        "\n",
        "  parameters = [b, w, w2, w3, w4, w5]\n",
        "  optimizer = optim.SGD(parameters, lr=lr)\n",
        "  mse_loss = nn.MSELoss()\n",
        "\n",
        "  for epoch in range(epochs):\n",
        "\n",
        "    y_hat = b + w * x_train_tensor + w2 * (x_train_tensor**2) + w5*torch.sin(w3*x_train_tensor)+ w4*torch.log(x_train_tensor)\n",
        "    loss = mse_loss(y_hat, y_train_tensor)\n",
        "    loss.backward()\n",
        "    optimizer.step() #with문을 대신함 : gradient descent의 step을 밟는다 라는 의미\n",
        "    optimizer.zero_grad()\n",
        "  return b,w ,w2, w3, w4, w5\n",
        "  #NumPy랑 비교했을 때 더 빠르고 좋다.."
      ],
      "metadata": {
        "id": "Zo88CNdMVHPK"
      },
      "execution_count": null,
      "outputs": []
    },
    {
      "cell_type": "code",
      "source": [
        "def test(b, w, w2, w3, w4,w5):\n",
        "  y_hat = b + w * x_val_tensor + w2 * (x_val_tensor**2) + w5*torch.sin(w3*x_val_tensor)+ w4*torch.log(x_val_tensor)\n",
        "  error = y_hat - y_val_tensor\n",
        "  mse_loss = torch.mean(error**2)\n",
        "  return mse_loss"
      ],
      "metadata": {
        "id": "clvuPeMdQqmC"
      },
      "execution_count": null,
      "outputs": []
    },
    {
      "cell_type": "code",
      "source": [
        "loss_list = []\n",
        "for i in range(10):\n",
        "  b, w, w2, w3, w4,w5 = train_model_torch_optim()\n",
        "  loss_list.append(test(b, w, w2, w3, w4,w5))"
      ],
      "metadata": {
        "colab": {
          "base_uri": "https://localhost:8080/"
        },
        "id": "b0j2sGykVNgj",
        "outputId": "ac5b2b90-4914-41be-d838-22fd721bfac4"
      },
      "execution_count": null,
      "outputs": [
        {
          "output_type": "stream",
          "name": "stdout",
          "text": [
            "Execution time of train_model_torch_optim: 0.5939517021179199 seconds\n",
            "Execution time of train_model_torch_optim: 0.5585672855377197 seconds\n",
            "Execution time of train_model_torch_optim: 0.5727605819702148 seconds\n",
            "Execution time of train_model_torch_optim: 0.5571568012237549 seconds\n",
            "Execution time of train_model_torch_optim: 0.5533621311187744 seconds\n",
            "Execution time of train_model_torch_optim: 0.541374921798706 seconds\n",
            "Execution time of train_model_torch_optim: 0.5517439842224121 seconds\n",
            "Execution time of train_model_torch_optim: 0.9746172428131104 seconds\n",
            "Execution time of train_model_torch_optim: 0.9522826671600342 seconds\n",
            "Execution time of train_model_torch_optim: 0.5491931438446045 seconds\n"
          ]
        }
      ]
    },
    {
      "cell_type": "code",
      "source": [
        "loss = 0\n",
        "for i in range(10):\n",
        "  loss += loss_list[i].item()\n",
        "\n",
        "loss/10 #mean Loss"
      ],
      "metadata": {
        "colab": {
          "base_uri": "https://localhost:8080/"
        },
        "id": "bvCaoIgbVi0v",
        "outputId": "6fc493d5-97a2-4e79-fcca-839934b29abc"
      },
      "execution_count": null,
      "outputs": [
        {
          "output_type": "execute_result",
          "data": {
            "text/plain": [
              "0.027786004056653473"
            ]
          },
          "metadata": {},
          "execution_count": 99
        }
      ]
    },
    {
      "cell_type": "code",
      "source": [],
      "metadata": {
        "id": "gNnz8AvaYgPm"
      },
      "execution_count": null,
      "outputs": []
    }
  ]
}