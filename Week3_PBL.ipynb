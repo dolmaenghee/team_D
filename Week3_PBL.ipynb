{
  "cells": [
    {
      "cell_type": "markdown",
      "metadata": {
        "id": "view-in-github",
        "colab_type": "text"
      },
      "source": [
        "<a href=\"https://colab.research.google.com/github/dolmaenghee/team_D/blob/main/Week3_PBL.ipynb\" target=\"_parent\"><img src=\"https://colab.research.google.com/assets/colab-badge.svg\" alt=\"Open In Colab\"/></a>"
      ]
    },
    {
      "cell_type": "code",
      "execution_count": 1,
      "metadata": {
        "id": "2wJVlnl7Kv3D"
      },
      "outputs": [],
      "source": [
        "import pandas as pd\n",
        "import numpy as np\n",
        "import matplotlib\n",
        "import matplotlib.pyplot as plt\n",
        "%matplotlib inline\n",
        "\n",
        "import torch\n",
        "import torch.nn as nn\n",
        "from torch.utils.data import Dataset, DataLoader\n",
        "import torch.nn.functional as F\n",
        "import torch.optim as optim\n",
        "import matplotlib.pyplot as plt\n",
        "import torchvision.transforms as transforms\n",
        "from PIL import Image\n",
        "\n",
        "#필요한 모듈 import. 꼭 필요한 모듈만은 아닙니다."
      ]
    },
    {
      "cell_type": "code",
      "source": [
        "#colab mount\n",
        "from google.colab import drive\n",
        "drive = drive.mount('/content/drive')\n",
        "\n",
        "#현재 위치로 디렉토리 이동. 이 colab file이 있는 곳으로 작업환경을 옮깁니다. 꼭 필요한 작업은 아니나. 매번 전역경로 설정이 귀찮아서 이렇게 진행합니다.\n",
        "\n",
        "%cd /content/drive/MyDrive/Colab Notebooks/lim"
      ],
      "metadata": {
        "colab": {
          "base_uri": "https://localhost:8080/"
        },
        "id": "CHO7J7bYLLp5",
        "outputId": "73d0e065-fe36-4ba5-8200-f798be9b009c"
      },
      "execution_count": 19,
      "outputs": [
        {
          "output_type": "stream",
          "name": "stdout",
          "text": [
            "Drive already mounted at /content/drive; to attempt to forcibly remount, call drive.mount(\"/content/drive\", force_remount=True).\n",
            "/content/drive/MyDrive/Colab Notebooks/lim\n"
          ]
        }
      ]
    },
    {
      "cell_type": "code",
      "source": [
        "import time\n",
        "# 두 방식 비교용 decorator\n",
        "def time_taken(func):\n",
        "    def wrapper(*args, **kwargs):\n",
        "        start_time = time.time()\n",
        "        result = func(*args, **kwargs)\n",
        "        end_time = time.time()\n",
        "        elapsed_time = end_time - start_time\n",
        "        print(f\"Time taken by {func.__name__}: {elapsed_time:.4f} seconds\")\n",
        "        return result\n",
        "    return wrapper"
      ],
      "metadata": {
        "id": "bB_356iXSaZ5"
      },
      "execution_count": 32,
      "outputs": []
    },
    {
      "cell_type": "markdown",
      "source": [
        "- 교수님 께서 주신 코드 두 개. 두 방식을 비교해봅시다.\n",
        "\n",
        "1.   METHOD I\n",
        "2.   METHOD II\n",
        "\n"
      ],
      "metadata": {
        "id": "-SRx9El1Rh0t"
      }
    },
    {
      "cell_type": "code",
      "source": [
        "from io import BytesIO\n",
        "from PIL import Image # Bytes 로 압축된 이미지를 이미지로 변환하기 위해 필요\n",
        "from zipfile import ZipFile # 압축된 데이터 파일 핸들링을 위한 라이브러리\n",
        "\n",
        "@time_taken\n",
        "def extract_img_zipfile(zip_path, img_name):\n",
        "    \"\"\"\n",
        "    zip_path: zip 파일 경로 ex) './train.zip'\n",
        "    img_name: zip 파일 내 이미지 파일 이름 ex) 'train/image_0.png' or ['train/image_0.png', 'train/image_1.png', ..]\n",
        "    \"\"\"\n",
        "    with ZipFile(zip_path, 'r') as img_file:\n",
        "        # zip_path 경로 내 img_name 데이터를 읽는 코드\n",
        "        img_data = img_file.read(img_name)\n",
        "\n",
        "    # io.BytesIO 로 Byte 객체 생성\n",
        "    img_bytes_io = BytesIO(img_data)\n",
        "\n",
        "    # 생성된 Byte 객체를 ndarray 로 변환하는 코드\n",
        "    with Image.open(img_bytes_io) as img:\n",
        "        return np.array(img)\n"
      ],
      "metadata": {
        "id": "szItA5eZLCVr"
      },
      "execution_count": 33,
      "outputs": []
    },
    {
      "cell_type": "code",
      "source": [
        "from cv2 import imdecode # opencv 미설치시 !pip install opencv-python 명령문으로 설치\n",
        "import cv2\n",
        "\n",
        "@time_taken\n",
        "def extract_img_zipfile_opencv(zip_path, img_name):\n",
        "    \"\"\"\n",
        "    zip_path: zip 파일 경로 ex) './train.zip'\n",
        "    img_name: zip 파일 내 이미지 파일 이름 ex) 'train/image_0.png' or ['train/image_0.png', 'train/image_1.png', ..]\n",
        "    \"\"\"\n",
        "    with ZipFile(zip_path, 'r') as img_file:\n",
        "        # zip_path 경로 내 img_name 데이터를 읽는 코드\n",
        "        img_data = img_file.read(img_name)\n",
        "\n",
        "    # memory buffer 를 1D-ndarray 로 변환\n",
        "    np_buffer = np.frombuffer(img_data, np.uint8)\n",
        "    # buffer 를 gray scale image 인 2D-ndarray 로 변환\n",
        "    img = imdecode(np_buffer, cv2.IMREAD_GRAYSCALE)\n",
        "    return img"
      ],
      "metadata": {
        "id": "zTv2qpynRc4r"
      },
      "execution_count": 34,
      "outputs": []
    },
    {
      "cell_type": "markdown",
      "source": [
        "## IDEA FLOW\n",
        "\n",
        "- 교수님이 주신 코드를 사용하기 위해서는 file path 정보가 필요합니다. 우리는 pkl 파일 내에 이 정보가 있다는 것을 알고 있습니다. 어떻게 불러올 수 있을까요?\n",
        "\n",
        "- 주신 코드와 동일한 방식으로 pkl파일도 불러오면 됩니다.\n",
        "\n",
        "- gpt에게 교수님께서 주신 코드와 함께 prompt:\n",
        "\n",
        "\"이 방식을 pkl 파일 여는 데에도 사용하고 싶은데 어떻게 하면 될까?\" 하면 아래 코드를 얻을 수 있습니다. :)"
      ],
      "metadata": {
        "id": "LydoaGbMLpD5"
      }
    },
    {
      "cell_type": "code",
      "source": [
        "from io import BytesIO\n",
        "import pickle\n",
        "from zipfile import ZipFile\n",
        "\n",
        "def extract_pkl_zipfile(zip_path, pkl_name):\n",
        "    \"\"\"\n",
        "    zip_path: zip 파일 경로 ex) './data.zip'\n",
        "    pkl_name: zip 파일 내 pkl 파일 이름 ex) 'data.pkl' or ['data.pkl', 'data2.pkl', ..]\n",
        "    \"\"\"\n",
        "    with ZipFile(zip_path, 'r') as zip_file:\n",
        "        # Read the pkl data from the zip file\n",
        "        pkl_data = zip_file.read(pkl_name)\n",
        "\n",
        "    # Create a BytesIO object from the pkl data\n",
        "    pkl_bytes_io = BytesIO(pkl_data)\n",
        "\n",
        "    # Deserialize the pickled data\n",
        "    with pkl_bytes_io as pkl_file:\n",
        "        pkl_obj = pickle.load(pkl_file)\n",
        "\n",
        "    return pkl_obj\n",
        "\n",
        "zip_path = './data/3주차-PBL-data.zip'\n",
        "train_pkl_name = 'train.pkl'\n",
        "val_pkl_name = 'valid.pkl'\n",
        "\n",
        "train = extract_pkl_zipfile(zip_path, val_pkl_name)\n",
        "valid = extract_pkl_zipfile(zip_path, val_pkl_name)"
      ],
      "metadata": {
        "id": "4zl7GZtHLxMe"
      },
      "execution_count": 35,
      "outputs": []
    },
    {
      "cell_type": "code",
      "execution_count": 36,
      "metadata": {
        "colab": {
          "base_uri": "https://localhost:8080/",
          "height": 424
        },
        "id": "Do6f_K3mKv3H",
        "outputId": "8b08a05a-7679-4ecb-94cd-cca23d447a5c"
      },
      "outputs": [
        {
          "output_type": "execute_result",
          "data": {
            "text/plain": [
              "      n  potential                                 position  \\\n",
              "0     6      0.457           [100, 122, 140, 159, 177, 199]   \n",
              "1     7      0.291       [74, 102, 127, 150, 172, 197, 225]   \n",
              "2     6      0.434            [98, 121, 140, 159, 178, 201]   \n",
              "3     8      0.435  [86, 107, 125, 141, 158, 174, 192, 213]   \n",
              "4     8      0.401  [83, 105, 124, 141, 158, 175, 194, 216]   \n",
              "...  ..        ...                                      ...   \n",
              "9995  6      0.301            [84, 113, 137, 162, 186, 215]   \n",
              "9996  8      0.345  [76, 100, 121, 140, 159, 178, 199, 223]   \n",
              "9997  5      0.372                [100, 126, 150, 173, 199]   \n",
              "9998  6      0.304            [84, 113, 138, 161, 186, 215]   \n",
              "9999  5      0.445                [106, 129, 150, 170, 193]   \n",
              "\n",
              "                  img_path  \n",
              "0        valid/image_0.png  \n",
              "1        valid/image_1.png  \n",
              "2        valid/image_2.png  \n",
              "3        valid/image_3.png  \n",
              "4        valid/image_4.png  \n",
              "...                    ...  \n",
              "9995  valid/image_9995.png  \n",
              "9996  valid/image_9996.png  \n",
              "9997  valid/image_9997.png  \n",
              "9998  valid/image_9998.png  \n",
              "9999  valid/image_9999.png  \n",
              "\n",
              "[10000 rows x 4 columns]"
            ],
            "text/html": [
              "\n",
              "\n",
              "  <div id=\"df-ae3235ac-7b98-4b61-974c-6aa61f0a3d06\">\n",
              "    <div class=\"colab-df-container\">\n",
              "      <div>\n",
              "<style scoped>\n",
              "    .dataframe tbody tr th:only-of-type {\n",
              "        vertical-align: middle;\n",
              "    }\n",
              "\n",
              "    .dataframe tbody tr th {\n",
              "        vertical-align: top;\n",
              "    }\n",
              "\n",
              "    .dataframe thead th {\n",
              "        text-align: right;\n",
              "    }\n",
              "</style>\n",
              "<table border=\"1\" class=\"dataframe\">\n",
              "  <thead>\n",
              "    <tr style=\"text-align: right;\">\n",
              "      <th></th>\n",
              "      <th>n</th>\n",
              "      <th>potential</th>\n",
              "      <th>position</th>\n",
              "      <th>img_path</th>\n",
              "    </tr>\n",
              "  </thead>\n",
              "  <tbody>\n",
              "    <tr>\n",
              "      <th>0</th>\n",
              "      <td>6</td>\n",
              "      <td>0.457</td>\n",
              "      <td>[100, 122, 140, 159, 177, 199]</td>\n",
              "      <td>valid/image_0.png</td>\n",
              "    </tr>\n",
              "    <tr>\n",
              "      <th>1</th>\n",
              "      <td>7</td>\n",
              "      <td>0.291</td>\n",
              "      <td>[74, 102, 127, 150, 172, 197, 225]</td>\n",
              "      <td>valid/image_1.png</td>\n",
              "    </tr>\n",
              "    <tr>\n",
              "      <th>2</th>\n",
              "      <td>6</td>\n",
              "      <td>0.434</td>\n",
              "      <td>[98, 121, 140, 159, 178, 201]</td>\n",
              "      <td>valid/image_2.png</td>\n",
              "    </tr>\n",
              "    <tr>\n",
              "      <th>3</th>\n",
              "      <td>8</td>\n",
              "      <td>0.435</td>\n",
              "      <td>[86, 107, 125, 141, 158, 174, 192, 213]</td>\n",
              "      <td>valid/image_3.png</td>\n",
              "    </tr>\n",
              "    <tr>\n",
              "      <th>4</th>\n",
              "      <td>8</td>\n",
              "      <td>0.401</td>\n",
              "      <td>[83, 105, 124, 141, 158, 175, 194, 216]</td>\n",
              "      <td>valid/image_4.png</td>\n",
              "    </tr>\n",
              "    <tr>\n",
              "      <th>...</th>\n",
              "      <td>...</td>\n",
              "      <td>...</td>\n",
              "      <td>...</td>\n",
              "      <td>...</td>\n",
              "    </tr>\n",
              "    <tr>\n",
              "      <th>9995</th>\n",
              "      <td>6</td>\n",
              "      <td>0.301</td>\n",
              "      <td>[84, 113, 137, 162, 186, 215]</td>\n",
              "      <td>valid/image_9995.png</td>\n",
              "    </tr>\n",
              "    <tr>\n",
              "      <th>9996</th>\n",
              "      <td>8</td>\n",
              "      <td>0.345</td>\n",
              "      <td>[76, 100, 121, 140, 159, 178, 199, 223]</td>\n",
              "      <td>valid/image_9996.png</td>\n",
              "    </tr>\n",
              "    <tr>\n",
              "      <th>9997</th>\n",
              "      <td>5</td>\n",
              "      <td>0.372</td>\n",
              "      <td>[100, 126, 150, 173, 199]</td>\n",
              "      <td>valid/image_9997.png</td>\n",
              "    </tr>\n",
              "    <tr>\n",
              "      <th>9998</th>\n",
              "      <td>6</td>\n",
              "      <td>0.304</td>\n",
              "      <td>[84, 113, 138, 161, 186, 215]</td>\n",
              "      <td>valid/image_9998.png</td>\n",
              "    </tr>\n",
              "    <tr>\n",
              "      <th>9999</th>\n",
              "      <td>5</td>\n",
              "      <td>0.445</td>\n",
              "      <td>[106, 129, 150, 170, 193]</td>\n",
              "      <td>valid/image_9999.png</td>\n",
              "    </tr>\n",
              "  </tbody>\n",
              "</table>\n",
              "<p>10000 rows × 4 columns</p>\n",
              "</div>\n",
              "      <button class=\"colab-df-convert\" onclick=\"convertToInteractive('df-ae3235ac-7b98-4b61-974c-6aa61f0a3d06')\"\n",
              "              title=\"Convert this dataframe to an interactive table.\"\n",
              "              style=\"display:none;\">\n",
              "\n",
              "  <svg xmlns=\"http://www.w3.org/2000/svg\" height=\"24px\"viewBox=\"0 0 24 24\"\n",
              "       width=\"24px\">\n",
              "    <path d=\"M0 0h24v24H0V0z\" fill=\"none\"/>\n",
              "    <path d=\"M18.56 5.44l.94 2.06.94-2.06 2.06-.94-2.06-.94-.94-2.06-.94 2.06-2.06.94zm-11 1L8.5 8.5l.94-2.06 2.06-.94-2.06-.94L8.5 2.5l-.94 2.06-2.06.94zm10 10l.94 2.06.94-2.06 2.06-.94-2.06-.94-.94-2.06-.94 2.06-2.06.94z\"/><path d=\"M17.41 7.96l-1.37-1.37c-.4-.4-.92-.59-1.43-.59-.52 0-1.04.2-1.43.59L10.3 9.45l-7.72 7.72c-.78.78-.78 2.05 0 2.83L4 21.41c.39.39.9.59 1.41.59.51 0 1.02-.2 1.41-.59l7.78-7.78 2.81-2.81c.8-.78.8-2.07 0-2.86zM5.41 20L4 18.59l7.72-7.72 1.47 1.35L5.41 20z\"/>\n",
              "  </svg>\n",
              "      </button>\n",
              "\n",
              "\n",
              "\n",
              "    <div id=\"df-1d23581b-c987-4383-a378-07a073e9bf6b\">\n",
              "      <button class=\"colab-df-quickchart\" onclick=\"quickchart('df-1d23581b-c987-4383-a378-07a073e9bf6b')\"\n",
              "              title=\"Suggest charts.\"\n",
              "              style=\"display:none;\">\n",
              "\n",
              "<svg xmlns=\"http://www.w3.org/2000/svg\" height=\"24px\"viewBox=\"0 0 24 24\"\n",
              "     width=\"24px\">\n",
              "    <g>\n",
              "        <path d=\"M19 3H5c-1.1 0-2 .9-2 2v14c0 1.1.9 2 2 2h14c1.1 0 2-.9 2-2V5c0-1.1-.9-2-2-2zM9 17H7v-7h2v7zm4 0h-2V7h2v10zm4 0h-2v-4h2v4z\"/>\n",
              "    </g>\n",
              "</svg>\n",
              "      </button>\n",
              "    </div>\n",
              "\n",
              "<style>\n",
              "  .colab-df-quickchart {\n",
              "    background-color: #E8F0FE;\n",
              "    border: none;\n",
              "    border-radius: 50%;\n",
              "    cursor: pointer;\n",
              "    display: none;\n",
              "    fill: #1967D2;\n",
              "    height: 32px;\n",
              "    padding: 0 0 0 0;\n",
              "    width: 32px;\n",
              "  }\n",
              "\n",
              "  .colab-df-quickchart:hover {\n",
              "    background-color: #E2EBFA;\n",
              "    box-shadow: 0px 1px 2px rgba(60, 64, 67, 0.3), 0px 1px 3px 1px rgba(60, 64, 67, 0.15);\n",
              "    fill: #174EA6;\n",
              "  }\n",
              "\n",
              "  [theme=dark] .colab-df-quickchart {\n",
              "    background-color: #3B4455;\n",
              "    fill: #D2E3FC;\n",
              "  }\n",
              "\n",
              "  [theme=dark] .colab-df-quickchart:hover {\n",
              "    background-color: #434B5C;\n",
              "    box-shadow: 0px 1px 3px 1px rgba(0, 0, 0, 0.15);\n",
              "    filter: drop-shadow(0px 1px 2px rgba(0, 0, 0, 0.3));\n",
              "    fill: #FFFFFF;\n",
              "  }\n",
              "</style>\n",
              "\n",
              "    <script>\n",
              "      async function quickchart(key) {\n",
              "        const containerElement = document.querySelector('#' + key);\n",
              "        const charts = await google.colab.kernel.invokeFunction(\n",
              "            'suggestCharts', [key], {});\n",
              "      }\n",
              "    </script>\n",
              "\n",
              "      <script>\n",
              "\n",
              "function displayQuickchartButton(domScope) {\n",
              "  let quickchartButtonEl =\n",
              "    domScope.querySelector('#df-1d23581b-c987-4383-a378-07a073e9bf6b button.colab-df-quickchart');\n",
              "  quickchartButtonEl.style.display =\n",
              "    google.colab.kernel.accessAllowed ? 'block' : 'none';\n",
              "}\n",
              "\n",
              "        displayQuickchartButton(document);\n",
              "      </script>\n",
              "      <style>\n",
              "    .colab-df-container {\n",
              "      display:flex;\n",
              "      flex-wrap:wrap;\n",
              "      gap: 12px;\n",
              "    }\n",
              "\n",
              "    .colab-df-convert {\n",
              "      background-color: #E8F0FE;\n",
              "      border: none;\n",
              "      border-radius: 50%;\n",
              "      cursor: pointer;\n",
              "      display: none;\n",
              "      fill: #1967D2;\n",
              "      height: 32px;\n",
              "      padding: 0 0 0 0;\n",
              "      width: 32px;\n",
              "    }\n",
              "\n",
              "    .colab-df-convert:hover {\n",
              "      background-color: #E2EBFA;\n",
              "      box-shadow: 0px 1px 2px rgba(60, 64, 67, 0.3), 0px 1px 3px 1px rgba(60, 64, 67, 0.15);\n",
              "      fill: #174EA6;\n",
              "    }\n",
              "\n",
              "    [theme=dark] .colab-df-convert {\n",
              "      background-color: #3B4455;\n",
              "      fill: #D2E3FC;\n",
              "    }\n",
              "\n",
              "    [theme=dark] .colab-df-convert:hover {\n",
              "      background-color: #434B5C;\n",
              "      box-shadow: 0px 1px 3px 1px rgba(0, 0, 0, 0.15);\n",
              "      filter: drop-shadow(0px 1px 2px rgba(0, 0, 0, 0.3));\n",
              "      fill: #FFFFFF;\n",
              "    }\n",
              "  </style>\n",
              "\n",
              "      <script>\n",
              "        const buttonEl =\n",
              "          document.querySelector('#df-ae3235ac-7b98-4b61-974c-6aa61f0a3d06 button.colab-df-convert');\n",
              "        buttonEl.style.display =\n",
              "          google.colab.kernel.accessAllowed ? 'block' : 'none';\n",
              "\n",
              "        async function convertToInteractive(key) {\n",
              "          const element = document.querySelector('#df-ae3235ac-7b98-4b61-974c-6aa61f0a3d06');\n",
              "          const dataTable =\n",
              "            await google.colab.kernel.invokeFunction('convertToInteractive',\n",
              "                                                     [key], {});\n",
              "          if (!dataTable) return;\n",
              "\n",
              "          const docLinkHtml = 'Like what you see? Visit the ' +\n",
              "            '<a target=\"_blank\" href=https://colab.research.google.com/notebooks/data_table.ipynb>data table notebook</a>'\n",
              "            + ' to learn more about interactive tables.';\n",
              "          element.innerHTML = '';\n",
              "          dataTable['output_type'] = 'display_data';\n",
              "          await google.colab.output.renderOutput(dataTable, element);\n",
              "          const docLink = document.createElement('div');\n",
              "          docLink.innerHTML = docLinkHtml;\n",
              "          element.appendChild(docLink);\n",
              "        }\n",
              "      </script>\n",
              "    </div>\n",
              "  </div>\n"
            ]
          },
          "metadata": {},
          "execution_count": 36
        }
      ],
      "source": [
        "train #dataset의 형태를 확인합니다."
      ]
    },
    {
      "cell_type": "markdown",
      "source": [
        "아래는 기존 코드"
      ],
      "metadata": {
        "id": "vZdV94zsOibO"
      }
    },
    {
      "cell_type": "code",
      "execution_count": 37,
      "metadata": {
        "colab": {
          "base_uri": "https://localhost:8080/",
          "height": 35
        },
        "id": "EgeekGWdKv3I",
        "outputId": "20828ea1-633f-4adb-a157-1f88d76db7a9"
      },
      "outputs": [
        {
          "output_type": "execute_result",
          "data": {
            "text/plain": [
              "\"from PIL import Image\\n\\nimg = Image.open('./pbl_data/train/image_0.png') #이미지 오픈 시에 PIL 라이브러리를 사용합니다.\\nimg = np.array(img) #numpy array로 변환합니다.\\n\\nplt.imshow(img) #이미지를 출력합니다.\""
            ],
            "application/vnd.google.colaboratory.intrinsic+json": {
              "type": "string"
            }
          },
          "metadata": {},
          "execution_count": 37
        }
      ],
      "source": [
        "\"\"\"from PIL import Image\n",
        "\n",
        "img = Image.open('./pbl_data/train/image_0.png') #이미지 오픈 시에 PIL 라이브러리를 사용합니다.\n",
        "img = np.array(img) #numpy array로 변환합니다.\n",
        "\n",
        "plt.imshow(img) #이미지를 출력합니다.\"\"\""
      ]
    },
    {
      "cell_type": "code",
      "source": [
        "# METHOD I\n",
        "# 교수님께서 주신 방식을 사용하면 img file을 np.array() 로 받을 수 있겠죠?\n",
        "\n",
        "img_name = 'train/image_0.png'\n",
        "img = extract_img_zipfile(zip_path, img_name)\n",
        "plt.imshow(img)"
      ],
      "metadata": {
        "colab": {
          "base_uri": "https://localhost:8080/",
          "height": 118
        },
        "id": "CzMYz0fSOkcQ",
        "outputId": "b29b6e11-396c-4089-883d-b04594fcd5f8"
      },
      "execution_count": 38,
      "outputs": [
        {
          "output_type": "stream",
          "name": "stdout",
          "text": [
            "Time taken by extract_img_zipfile: 1.5976 seconds\n"
          ]
        },
        {
          "output_type": "execute_result",
          "data": {
            "text/plain": [
              "<matplotlib.image.AxesImage at 0x792e3ed812a0>"
            ]
          },
          "metadata": {},
          "execution_count": 38
        },
        {
          "output_type": "display_data",
          "data": {
            "text/plain": [
              "<Figure size 640x480 with 1 Axes>"
            ],
            "image/png": "[encoded data removed]"
          },
          "metadata": {}
        }
      ]
    },
    {
      "cell_type": "code",
      "source": [
        "# METHOD II\n",
        "# 조금 더 빠른 속도로 img를 읽어왔으나, 할 때마다 달라집니다.\n",
        "\n",
        "img_name = 'train/image_0.png'\n",
        "img = extract_img_zipfile_opencv(zip_path, img_name)\n",
        "plt.imshow(img)"
      ],
      "metadata": {
        "colab": {
          "base_uri": "https://localhost:8080/",
          "height": 118
        },
        "id": "iBTFw09RSOUt",
        "outputId": "0af4c449-072a-4159-dc7e-8de0b2dabc9a"
      },
      "execution_count": 40,
      "outputs": [
        {
          "output_type": "stream",
          "name": "stdout",
          "text": [
            "Time taken by extract_img_zipfile_opencv: 1.3648 seconds\n"
          ]
        },
        {
          "output_type": "execute_result",
          "data": {
            "text/plain": [
              "<matplotlib.image.AxesImage at 0x792e3ed82110>"
            ]
          },
          "metadata": {},
          "execution_count": 40
        },
        {
          "output_type": "display_data",
          "data": {
            "text/plain": [
              "<Figure size 640x480 with 1 Axes>"
            ],
            "image/png": "[encoded data removed]"
          },
          "metadata": {}
        }
      ]
    },
    {
      "cell_type": "markdown",
      "source": [
        "아래는 기존 코드"
      ],
      "metadata": {
        "id": "7lj37JLzPMz-"
      }
    },
    {
      "cell_type": "code",
      "execution_count": null,
      "metadata": {
        "id": "sR6glX_iKv3I"
      },
      "outputs": [],
      "source": [
        "class CustomizedDataset(Dataset):\n",
        "    def __init__(self, data_dir, dataframe, transform = None):\n",
        "        self.data_dir = data_dir # 데이터가 저장된 디렉토리를 불러옵니다.\n",
        "        self.dataframe = dataframe # 데이터프레임 역시 가져옵니다.\n",
        "\n",
        "\n",
        "        if transform == None:# transform이 없다면, transform을 torch.Tensor로 설정합니다.\n",
        "            self.transform = torch.Tensor\n",
        "        else:\n",
        "            self.transform = transform\n",
        "\n",
        "    def __len__(self): # 데이터프레임 개수를 불러와서 개수 뽑아내기.\n",
        "        return len(self.dataframe) # train의 경우 60000개가 나와야겠죠?\n",
        "\n",
        "    def __getitem__(self, idx):\n",
        "        img_path = self.dataframe['img_path'][idx] # index에 해당하는 img_path를 불러온다.\n",
        "        img = Image.open(self.data_dir + img_path) # path에 해당하는 이미지를 불러온다.\n",
        "        img = np.array(img) # 이미지를 numpy array로 변환한다.\n",
        "\n",
        "        n, potential = self.dataframe['n'][idx], self.dataframe['potential'][idx] # index에 해당하는 n, potential을 불러온다.\n",
        "        transformed_img = self.transform(img) # 이미지를 transform한다.\n",
        "        transformed_label = self.transform([n, potential]) # label을 transform한다.\n",
        "        #image, Label의 dtype이 torch.Tensor여야하므로 위의 변환이 진행되었습니다.\n",
        "        return transformed_img, transformed_label"
      ]
    },
    {
      "cell_type": "markdown",
      "source": [
        "## 교수님 코드와 함께 수정된 version\n",
        "\n",
        "이미지를 가져오는 방식이 PIL Image 모듈을 사용하는 방식에서 바뀌었으니 dataset class도 수정해줘야 합니다.\n",
        "\n",
        "다른 부분은 모두 그대로이나, 교수님께서 주신 두 방식중 어떤 것을 사용할 지 지정하는 method_1 = True 가 추가되었고, 이에 따라 이미지를 가져오는 부분만 변경되었습니다."
      ],
      "metadata": {
        "id": "trJlbP91PRSd"
      }
    },
    {
      "cell_type": "code",
      "execution_count": 42,
      "metadata": {
        "id": "5DPIyJlkPQfg"
      },
      "outputs": [],
      "source": [
        "class CustomizedDataset(Dataset):\n",
        "    def __init__(self, zip_path, dataframe, method_1 = True, transform = None):\n",
        "        self.zip_path = zip_path #zip_path 정보를 불러옵니다. data_dir 그대로 쓰셔도 되나, 이해를 위해 이름을 수정하였습니다.\n",
        "        self.dataframe = dataframe\n",
        "        self.method_1 = method_1 #교수님이 주신 두 방식 중 선택하는 Flag 인자입니다.\n",
        "\n",
        "        if transform == None:\n",
        "            self.transform = torch.Tensor\n",
        "        else:\n",
        "            self.transform = transform\n",
        "\n",
        "    def __len__(self):\n",
        "        return len(self.dataframe)\n",
        "\n",
        "    def __getitem__(self, idx):\n",
        "        img_name = self.dataframe['img_path'][idx] # index에 해당하는 img_path를 불러온다.\n",
        "        if self.method_1 == True:\n",
        "          img = extract_img_zipfile(self.zip_path, img_name) #img 불러오는 부분을 교수님 함수1로 변경합니다.\n",
        "        else:\n",
        "          img = img = extract_img_zipfile_opencv(self.zip_path, img_name) #img 불러오는 부분을 교수님 함수2로 변경합니다.\n",
        "\n",
        "        n, potential = self.dataframe['n'][idx], self.dataframe['potential'][idx]\n",
        "        transformed_img = self.transform(img)\n",
        "        transformed_label = self.transform([n, potential])\n",
        "        return transformed_img, transformed_label"
      ]
    },
    {
      "cell_type": "code",
      "execution_count": 45,
      "metadata": {
        "colab": {
          "base_uri": "https://localhost:8080/"
        },
        "id": "WkpdV-g8Kv3J",
        "outputId": "b6bbef8c-c473-4b32-b715-e78794f633b9"
      },
      "outputs": [
        {
          "output_type": "stream",
          "name": "stdout",
          "text": [
            "Time taken by extract_img_zipfile: 1.3697 seconds\n"
          ]
        },
        {
          "output_type": "execute_result",
          "data": {
            "text/plain": [
              "(tensor([[0., 0., 0.,  ..., 0., 0., 0.],\n",
              "         [0., 0., 0.,  ..., 0., 0., 0.],\n",
              "         [0., 0., 0.,  ..., 0., 0., 0.],\n",
              "         ...,\n",
              "         [0., 0., 0.,  ..., 0., 0., 0.],\n",
              "         [0., 0., 0.,  ..., 0., 0., 0.],\n",
              "         [0., 0., 0.,  ..., 0., 0., 0.]]),\n",
              " tensor([6.0000, 0.4570]))"
            ]
          },
          "metadata": {},
          "execution_count": 45
        }
      ],
      "source": [
        "train_dataset_1 = CustomizedDataset(zip_path, train, method_1 = True)  #method 1 사용\n",
        "valid_dataset_1 = CustomizedDataset(zip_path, valid, method_1 = True)\n",
        "\n",
        "train_dataset_2 = CustomizedDataset(zip_path, train, method_1 = False)  #method 2 사용\n",
        "valid_dataset_2 = CustomizedDataset(zip_path, valid, method_1 = False)\n",
        "train_dataset_1[0]"
      ]
    },
    {
      "cell_type": "code",
      "execution_count": 48,
      "metadata": {
        "colab": {
          "base_uri": "https://localhost:8080/",
          "height": 118
        },
        "id": "ara_kZsJKv3J",
        "outputId": "eef02a89-9287-4c9d-e525-760c9a78d719"
      },
      "outputs": [
        {
          "output_type": "stream",
          "name": "stdout",
          "text": [
            "Time taken by extract_img_zipfile: 2.3417 seconds\n"
          ]
        },
        {
          "output_type": "execute_result",
          "data": {
            "text/plain": [
              "<matplotlib.image.AxesImage at 0x792e38bec580>"
            ]
          },
          "metadata": {},
          "execution_count": 48
        },
        {
          "output_type": "display_data",
          "data": {
            "text/plain": [
              "<Figure size 640x480 with 1 Axes>"
            ],
            "image/png": "[encoded data removed]"
          },
          "metadata": {}
        }
      ],
      "source": [
        "plt.imshow(train_dataset_1[0][0])"
      ]
    },
    {
      "cell_type": "code",
      "execution_count": 49,
      "metadata": {
        "colab": {
          "base_uri": "https://localhost:8080/",
          "height": 118
        },
        "outputId": "ec8bd011-a5fc-47e9-886f-139865d3e426",
        "id": "svEfgEV-T01P"
      },
      "outputs": [
        {
          "output_type": "stream",
          "name": "stdout",
          "text": [
            "Time taken by extract_img_zipfile_opencv: 1.0990 seconds\n"
          ]
        },
        {
          "output_type": "execute_result",
          "data": {
            "text/plain": [
              "<matplotlib.image.AxesImage at 0x792e383cc8b0>"
            ]
          },
          "metadata": {},
          "execution_count": 49
        },
        {
          "output_type": "display_data",
          "data": {
            "text/plain": [
              "<Figure size 640x480 with 1 Axes>"
            ],
            "image/png": "[encoded data removed]"
          },
          "metadata": {}
        }
      ],
      "source": [
        "plt.imshow(train_dataset_2[0][0])"
      ]
    },
    {
      "cell_type": "code",
      "execution_count": 58,
      "metadata": {
        "id": "ml_lNCoWKv3J"
      },
      "outputs": [],
      "source": [
        "train_loader_1 = DataLoader(train_dataset_1, batch_size = 16, shuffle = True)\n",
        "valid_loader_1 = DataLoader(valid_dataset_1, batch_size = 16, shuffle = False)\n",
        "\n",
        "train_loader_2 = DataLoader(train_dataset_2, batch_size = 16, shuffle = True)\n",
        "valid_loader_2 = DataLoader(valid_dataset_2, batch_size = 16, shuffle = False)"
      ]
    },
    {
      "cell_type": "markdown",
      "source": [
        "## Method 1과 2 Loading 시간 비교"
      ],
      "metadata": {
        "id": "bCxE9iosUiUQ"
      }
    },
    {
      "cell_type": "code",
      "execution_count": 59,
      "metadata": {
        "colab": {
          "base_uri": "https://localhost:8080/"
        },
        "id": "yoEyiKGiKv3K",
        "outputId": "f5e79529-7798-4b61-b372-89586192c7e8"
      },
      "outputs": [
        {
          "output_type": "stream",
          "name": "stdout",
          "text": [
            "Time taken by extract_img_zipfile: 1.4161 seconds\n",
            "Time taken by extract_img_zipfile: 2.3372 seconds\n",
            "Time taken by extract_img_zipfile: 2.2940 seconds\n",
            "Time taken by extract_img_zipfile: 1.0840 seconds\n",
            "Time taken by extract_img_zipfile: 1.6496 seconds\n",
            "Time taken by extract_img_zipfile: 1.3292 seconds\n",
            "Time taken by extract_img_zipfile: 1.3182 seconds\n",
            "Time taken by extract_img_zipfile: 1.3487 seconds\n",
            "Time taken by extract_img_zipfile: 1.3419 seconds\n",
            "Time taken by extract_img_zipfile: 1.0676 seconds\n",
            "Time taken by extract_img_zipfile: 1.9102 seconds\n",
            "Time taken by extract_img_zipfile: 2.2982 seconds\n",
            "Time taken by extract_img_zipfile: 1.6641 seconds\n",
            "Time taken by extract_img_zipfile: 1.3392 seconds\n",
            "Time taken by extract_img_zipfile: 1.3546 seconds\n",
            "Time taken by extract_img_zipfile: 1.0954 seconds\n",
            "경과된 시간 24.871365070343018\n"
          ]
        }
      ],
      "source": [
        "#METHOD 1\n",
        "start_time = time.time()\n",
        "img, lab = next(iter(train_loader_1))\n",
        "end_time = time.time()\n",
        "print(\"경과된 시간\", end_time - start_time)"
      ]
    },
    {
      "cell_type": "code",
      "source": [
        "#METHOD 2\n",
        "start_time = time.time()\n",
        "img, lab = next(iter(train_loader_2))\n",
        "end_time = time.time()\n",
        "print(\"경과된 시간\", end_time - start_time)"
      ],
      "metadata": {
        "colab": {
          "base_uri": "https://localhost:8080/"
        },
        "id": "xTB1TeBzU-Fv",
        "outputId": "7b3f22a7-cd4b-4f43-d079-3516875a26e5"
      },
      "execution_count": 60,
      "outputs": [
        {
          "output_type": "stream",
          "name": "stdout",
          "text": [
            "Time taken by extract_img_zipfile_opencv: 1.3275 seconds\n",
            "Time taken by extract_img_zipfile_opencv: 1.3442 seconds\n",
            "Time taken by extract_img_zipfile_opencv: 1.3527 seconds\n",
            "Time taken by extract_img_zipfile_opencv: 1.3923 seconds\n",
            "Time taken by extract_img_zipfile_opencv: 1.9618 seconds\n",
            "Time taken by extract_img_zipfile_opencv: 2.2389 seconds\n",
            "Time taken by extract_img_zipfile_opencv: 1.3210 seconds\n",
            "Time taken by extract_img_zipfile_opencv: 1.2745 seconds\n",
            "Time taken by extract_img_zipfile_opencv: 1.2866 seconds\n",
            "Time taken by extract_img_zipfile_opencv: 1.3237 seconds\n",
            "Time taken by extract_img_zipfile_opencv: 1.5217 seconds\n",
            "Time taken by extract_img_zipfile_opencv: 1.0543 seconds\n",
            "Time taken by extract_img_zipfile_opencv: 1.3216 seconds\n",
            "Time taken by extract_img_zipfile_opencv: 1.6057 seconds\n",
            "Time taken by extract_img_zipfile_opencv: 2.2940 seconds\n",
            "Time taken by extract_img_zipfile_opencv: 1.8843 seconds\n",
            "경과된 시간 24.53080153465271\n"
          ]
        }
      ]
    },
    {
      "cell_type": "code",
      "execution_count": 63,
      "metadata": {
        "colab": {
          "base_uri": "https://localhost:8080/"
        },
        "id": "0cLnD-kJKv3K",
        "outputId": "032fc61c-ece4-4f1a-92fe-42d654ebc61b"
      },
      "outputs": [
        {
          "output_type": "execute_result",
          "data": {
            "text/plain": [
              "torch.Size([16, 10, 300])"
            ]
          },
          "metadata": {},
          "execution_count": 63
        }
      ],
      "source": [
        "img.shape"
      ]
    },
    {
      "cell_type": "code",
      "execution_count": 64,
      "metadata": {
        "colab": {
          "base_uri": "https://localhost:8080/"
        },
        "id": "XNqF289TKv3K",
        "outputId": "f015e53f-63e7-40bd-9248-1eefa898b74e"
      },
      "outputs": [
        {
          "output_type": "execute_result",
          "data": {
            "text/plain": [
              "torch.Size([16, 2])"
            ]
          },
          "metadata": {},
          "execution_count": 64
        }
      ],
      "source": [
        "lab.shape"
      ]
    },
    {
      "cell_type": "code",
      "source": [],
      "metadata": {
        "id": "EHLZ5B_cUeBP"
      },
      "execution_count": null,
      "outputs": []
    }
  ],
  "metadata": {
    "kernelspec": {
      "display_name": "base",
      "language": "python",
      "name": "python3"
    },
    "language_info": {
      "codemirror_mode": {
        "name": "ipython",
        "version": 3
      },
      "file_extension": ".py",
      "mimetype": "text/x-python",
      "name": "python",
      "nbconvert_exporter": "python",
      "pygments_lexer": "ipython3",
      "version": "3.10.9"
    },
    "orig_nbformat": 4,
    "colab": {
      "provenance": [],
      "include_colab_link": true
    }
  },
  "nbformat": 4,
  "nbformat_minor": 0
}