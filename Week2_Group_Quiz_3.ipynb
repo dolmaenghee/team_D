{
  "cells": [
    {
      "cell_type": "markdown",
      "metadata": {
        "id": "view-in-github",
        "colab_type": "text"
      },
      "source": [
        "<a href=\"https://colab.research.google.com/github/dolmaenghee/team_D/blob/main/Week2_Group_Quiz_3.ipynb\" target=\"_parent\"><img src=\"https://colab.research.google.com/assets/colab-badge.svg\" alt=\"Open In Colab\"/></a>"
      ]
    },
    {
      "cell_type": "markdown",
      "source": [
        "## Import modules\n",
        "\n",
        "- Runtime -> GPU로 바꿀것"
      ],
      "metadata": {
        "id": "nNSNBN_6QhKw"
      }
    },
    {
      "cell_type": "code",
      "execution_count": 88,
      "metadata": {
        "id": "nh5dJGmrTM5N"
      },
      "outputs": [],
      "source": [
        "from re import M\n",
        "import torch\n",
        "import torch.nn as nn\n",
        "import numpy as np\n",
        "import torch.utils.data as data\n",
        "import torchvision as tv\n",
        "import matplotlib.pyplot as plt\n",
        "import torch.optim as optim\n",
        "\n",
        "%matplotlib inline"
      ]
    },
    {
      "cell_type": "code",
      "execution_count": 89,
      "metadata": {
        "id": "p1fRC2Gq6ChC",
        "colab": {
          "base_uri": "https://localhost:8080/"
        },
        "outputId": "43a0aedf-5a08-46b4-abd1-ff8ebc31d444"
      },
      "outputs": [
        {
          "output_type": "stream",
          "name": "stdout",
          "text": [
            "cuda\n"
          ]
        }
      ],
      "source": [
        "#Hyperparameters setting\n",
        "LR = 0.1\n",
        "EPOCHS = 10 # 빠른 Training과정 확인을 위해 10으로 Setting 하였습니다. 원본 코드는 100\n",
        "BATCHSIZE = 512\n",
        "device = 'cuda' if torch.cuda.is_available() else 'cpu'\n",
        "print(device)"
      ]
    },
    {
      "cell_type": "code",
      "execution_count": 90,
      "metadata": {
        "id": "P3amZbbPT492"
      },
      "outputs": [],
      "source": [
        "import time\n",
        "def timer(func):\n",
        "    def wrapper(*args, **kwargs):\n",
        "        start_time = time.time()\n",
        "        result = func(*args, **kwargs)\n",
        "        end_time = time.time()\n",
        "        computation_time = end_time - start_time\n",
        "        print(f\"Execution time of {func.__name__}: {computation_time} seconds\")\n",
        "        return result\n",
        "    return wrapper"
      ]
    },
    {
      "cell_type": "markdown",
      "source": [
        "## Dataset/DataLoader"
      ],
      "metadata": {
        "id": "C4DWg530Kqu_"
      }
    },
    {
      "cell_type": "code",
      "execution_count": 91,
      "metadata": {
        "id": "NK5ABvEc6HjU"
      },
      "outputs": [],
      "source": [
        "train_dataset = tv.datasets.MNIST(\".\", download=True, train=True, transform=tv.transforms.ToTensor()) #transform = torchvision.transforms.ToTensor() 로 불러올 때 부터 텐서 형식으로 변환해 불러옵니다.\n",
        "test_dataset = tv.datasets.MNIST(\".\", download=True, train=False, transform=tv.transforms.ToTensor())"
      ]
    },
    {
      "cell_type": "code",
      "source": [
        "print(\"Image Type >> {}\\nShape of Image >> {}\\nClass >> {}\".format(train_dataset[0][0].dtype,train_dataset[0][0].shape, train_dataset[0][1]))"
      ],
      "metadata": {
        "colab": {
          "base_uri": "https://localhost:8080/"
        },
        "id": "F5AOQAPXKQNj",
        "outputId": "f25c843e-eb3b-4fab-bf17-9828b64b204e"
      },
      "execution_count": 92,
      "outputs": [
        {
          "output_type": "stream",
          "name": "stdout",
          "text": [
            "Image Type >> torch.float32\n",
            "Shape of Image >> torch.Size([1, 28, 28])\n",
            "Class >> 5\n"
          ]
        }
      ]
    },
    {
      "cell_type": "code",
      "source": [
        "plt.figure(figsize=(5,5))\n",
        "plt.imshow(train_dataset[0][0].reshape(28, 28), cmap=plt.get_cmap('gray'))\n",
        "plt.show()"
      ],
      "metadata": {
        "colab": {
          "base_uri": "https://localhost:8080/",
          "height": 445
        },
        "id": "-d-RHKnfItjC",
        "outputId": "4cf8f8f1-2cd2-47e8-8a20-a906b2272c7f"
      },
      "execution_count": 93,
      "outputs": [
        {
          "output_type": "display_data",
          "data": {
            "text/plain": [
              "<Figure size 500x500 with 1 Axes>"
            ],
            "image/png": "[encoded data removed]"
          },
          "metadata": {}
        }
      ]
    },
    {
      "cell_type": "code",
      "execution_count": 94,
      "metadata": {
        "id": "tTdPaZqe6JHB"
      },
      "outputs": [],
      "source": [
        "from torch.utils.data.dataloader import DataLoader\n",
        "np.random.seed(42)\n",
        "train_loader = DataLoader(dataset=train_dataset, batch_size=BATCHSIZE, shuffle=True) #Shuffle 을 진행하지만 동일한 데이터가 각 batch 내에서 겹치지 않도록 불러옵니다.\n",
        "test_loader = DataLoader(dataset=test_dataset, batch_size=BATCHSIZE, shuffle=False)"
      ]
    },
    {
      "cell_type": "code",
      "source": [
        "img, class_num = next(iter(train_loader)) #원래사이즈 (1,28,28) -> [BATCHSIZE, 1, 28, 28] class_num 역시 (1) -> [BATCHSIZE]\n",
        "print(img.shape, class_num.shape)"
      ],
      "metadata": {
        "colab": {
          "base_uri": "https://localhost:8080/"
        },
        "id": "vq6-wpKyXfSO",
        "outputId": "aae3a172-5fb8-412b-90d1-c30fdfdf27b7"
      },
      "execution_count": 95,
      "outputs": [
        {
          "output_type": "stream",
          "name": "stdout",
          "text": [
            "torch.Size([512, 1, 28, 28]) torch.Size([512])\n"
          ]
        }
      ]
    },
    {
      "cell_type": "markdown",
      "source": [
        "## Model Construction"
      ],
      "metadata": {
        "id": "DA0cVMXXMTpd"
      }
    },
    {
      "cell_type": "code",
      "execution_count": 96,
      "metadata": {
        "id": "UZZBIUfk6J_8"
      },
      "outputs": [],
      "source": [
        "class DeepClassification(nn.Module):\n",
        "    def __init__(self, hidden_variables=[128, 64, 10], input_output_dim=(28*28, 10)):\n",
        "        super().__init__()\n",
        "        # Concise Implementation\n",
        "        self.input_variable_dim = input_output_dim[0]\n",
        "        self.output_variable_dim = input_output_dim[1]\n",
        "        self.list_hidden_variable = hidden_variables\n",
        "        self.layer = nn.Sequential()\n",
        "\n",
        "        variable_dim = self.input_variable_dim\n",
        "        for i, hidden_variable in enumerate(self.list_hidden_variable):\n",
        "            self.layer.add_module('layer_' + str(i), nn.Linear(variable_dim, hidden_variable))\n",
        "            self.layer.add_module('activation_' + str(i), nn.ReLU())\n",
        "            variable_dim = hidden_variable\n",
        "        self.layer.add_module('final_layer', nn.Linear(variable_dim, self.output_variable_dim))\n",
        "\n",
        "    def forward(self, x):\n",
        "    # Computes the outputs / predictions\n",
        "        x = x.view(-1, 28*28)\n",
        "        y_hat = self.layer(x)\n",
        "        return y_hat"
      ]
    },
    {
      "cell_type": "code",
      "source": [
        "model = DeepClassification().to(device)"
      ],
      "metadata": {
        "id": "5D65xYAHLmaf"
      },
      "execution_count": 97,
      "outputs": []
    },
    {
      "cell_type": "code",
      "source": [
        "#! pip install torchsummary\n",
        "from torchsummary import summary\n",
        "\n",
        "summary(model, input_size = (BATCHSIZE,1,28,28)) #torch summary 모듈 이용하시면 Keras처럼 정리해서 볼 수 있어요."
      ],
      "metadata": {
        "colab": {
          "base_uri": "https://localhost:8080/"
        },
        "id": "FM_CAqKuLrwJ",
        "outputId": "80dee6b3-a7f6-4bfb-bd79-6d9ec578cb11"
      },
      "execution_count": 98,
      "outputs": [
        {
          "output_type": "stream",
          "name": "stdout",
          "text": [
            "----------------------------------------------------------------\n",
            "        Layer (type)               Output Shape         Param #\n",
            "================================================================\n",
            "            Linear-1                  [-1, 128]         100,480\n",
            "              ReLU-2                  [-1, 128]               0\n",
            "            Linear-3                   [-1, 64]           8,256\n",
            "              ReLU-4                   [-1, 64]               0\n",
            "            Linear-5                   [-1, 10]             650\n",
            "              ReLU-6                   [-1, 10]               0\n",
            "            Linear-7                   [-1, 10]             110\n",
            "================================================================\n",
            "Total params: 109,496\n",
            "Trainable params: 109,496\n",
            "Non-trainable params: 0\n",
            "----------------------------------------------------------------\n",
            "Input size (MB): 1.53\n",
            "Forward/backward pass size (MB): 0.00\n",
            "Params size (MB): 0.42\n",
            "Estimated Total Size (MB): 1.95\n",
            "----------------------------------------------------------------\n"
          ]
        }
      ]
    },
    {
      "cell_type": "code",
      "source": [
        "loss_fn = nn.CrossEntropyLoss() #Loss 함수 정의\n",
        "optimizer = optim.SGD(model.parameters(), lr=LR) #optimizer 정의\n",
        "\n",
        "#Dataloader를 사용했으므로 Minibatch SGD!"
      ],
      "metadata": {
        "id": "mdqFqPMkLi9B"
      },
      "execution_count": 99,
      "outputs": []
    },
    {
      "cell_type": "code",
      "execution_count": 100,
      "metadata": {
        "id": "RHAPaagT51Ev"
      },
      "outputs": [],
      "source": [
        "def make_train_step(model, loss_fn, optimizer):\n",
        "    def train_step_fn(x, y):\n",
        "\n",
        "        model.train()\n",
        "        y_hat = model(x)\n",
        "        loss = loss_fn(y_hat, y)\n",
        "        loss.backward()\n",
        "        optimizer.step()\n",
        "        optimizer.zero_grad()\n",
        "\n",
        "        return loss.item()\n",
        "    return train_step_fn"
      ]
    },
    {
      "cell_type": "code",
      "source": [
        "train_step = make_train_step(model, loss_fn, optimizer)"
      ],
      "metadata": {
        "id": "wpIuVbCKMkxY"
      },
      "execution_count": 101,
      "outputs": []
    },
    {
      "cell_type": "code",
      "execution_count": 102,
      "metadata": {
        "id": "UgjPdd2e6MQk"
      },
      "outputs": [],
      "source": [
        "from tqdm import tqdm # for문과 같은 반복문에 사용되는 iterable 객체에 씌워주면 한 번 for문이 돌아갈 때, 시간계산해서 예상 시간과 진척도를 보여줍니다.\n",
        "\n",
        "def evaluate_step(x, y):\n",
        "    y_hat = model(x)\n",
        "    result = torch.sum(torch.argmax(y_hat, axis=1) == y) #argmax(y_hat, axis = 1) <= model forwardpass에서 나온 [512, 10] 결과물 에서 axis 1 (10)을 기준으로 가장 큰 값을 뽑아냅니다. 10개의 Class중 가장 확률이 높은걸 가져온다고 보면 됩니다.\n",
        "    return result, len(y)\n",
        "\n",
        "@timer\n",
        "def train_model_classification(epochs=1000, eval_test_accuracy=False):\n",
        "    train_losses = []\n",
        "    for epoch in tqdm(range(epochs)): #이렇게 기존 for문에서 tqdm을 둘러준 것 만으로 진척도 확인이 가능!\n",
        "        mini_batch_losses = []\n",
        "        for x_minibatch, y_minibatch in train_loader:\n",
        "            x_minibatch = x_minibatch.to(device)\n",
        "            y_minibatch = y_minibatch.to(device)\n",
        "            mini_batch_loss = train_step(x_minibatch, y_minibatch)\n",
        "            mini_batch_losses.append(mini_batch_loss)\n",
        "\n",
        "        # Evaluate train loss\n",
        "        if (epoch + 1) % 10 == 0:\n",
        "            loss = np.mean(mini_batch_losses)\n",
        "            print(\"train loss at {} epoch:{}\".format(epoch + 1, loss))\n",
        "            train_losses.append(loss)\n",
        "\n",
        "    # 여기 이미 교수님께서 구현을 해놓으셨더군요\n",
        "    if eval_test_accuracy:\n",
        "        # Evaluate test accuracy\n",
        "        with torch.no_grad():\n",
        "            test_accuracy = 0\n",
        "            test_result = 0\n",
        "            test_cnt = 0\n",
        "            for x_minibatch_test, y_minibatch_test in test_loader:\n",
        "                x_minibatch_test = x_minibatch_test.to(device)\n",
        "                y_minibatch_test = y_minibatch_test.to(device)\n",
        "                result, cnt = evaluate_step(x_minibatch_test, y_minibatch_test)\n",
        "                test_result += result\n",
        "                test_cnt += cnt\n",
        "            test_accuracy = 100 * test_result / test_cnt\n",
        "            print(\"test accuracy: {}%\".format(test_accuracy))\n",
        "\n",
        "    return train_losses, test_accuracy"
      ]
    },
    {
      "cell_type": "markdown",
      "source": [
        "## Train and Evaluate"
      ],
      "metadata": {
        "id": "_hJ04OIwTtTv"
      }
    },
    {
      "cell_type": "code",
      "execution_count": 103,
      "metadata": {
        "colab": {
          "base_uri": "https://localhost:8080/"
        },
        "id": "kVtb0vaB6Nr2",
        "outputId": "adae6de0-2534-45bc-d444-72023b535228"
      },
      "outputs": [
        {
          "output_type": "stream",
          "name": "stderr",
          "text": [
            "100%|██████████| 10/10 [01:22<00:00,  8.22s/it]"
          ]
        },
        {
          "output_type": "stream",
          "name": "stdout",
          "text": [
            "train loss at 10 epoch:0.17400439557130054\n"
          ]
        },
        {
          "output_type": "stream",
          "name": "stderr",
          "text": [
            "\n"
          ]
        },
        {
          "output_type": "stream",
          "name": "stdout",
          "text": [
            "test accuracy: 92.63999938964844%\n",
            "Execution time of train_model_classification: 83.5200080871582 seconds\n"
          ]
        }
      ],
      "source": [
        "train_loss, test_accuracy = train_model_classification(epochs=EPOCHS, eval_test_accuracy=True) #실험용 epoch 10으로 설정"
      ]
    },
    {
      "cell_type": "code",
      "execution_count": 104,
      "metadata": {
        "id": "CwNAw_64T-c8"
      },
      "outputs": [],
      "source": [
        "#save checkpoint\n",
        "\n",
        "checkpoint = {'epochs':EPOCHS,\n",
        "              'model_state_dict':model.state_dict(),\n",
        "              'optimizer_state_dict':optimizer.state_dict(),\n",
        "              'train_loss':train_loss,\n",
        "              'test_accuracy':test_accuracy}\n",
        "\n",
        "torch.save(checkpoint, 'model_checkpoint.pth')\n",
        "\n",
        "#load checkpoint\n",
        "\n",
        "checkpoint = torch.load('model_checkpoint.pth')\n",
        "# Load model parameters\n",
        "model = DeepClassification().to(device)\n",
        "model.load_state_dict(checkpoint['model_state_dict'])\n",
        "# Load optimizer parameters\n",
        "optimizer = optim.SGD(model.parameters(), lr=LR)\n",
        "optimizer.load_state_dict(checkpoint['optimizer_state_dict'])"
      ]
    },
    {
      "cell_type": "code",
      "source": [
        "print('epochs :: {}'.format(checkpoint['epochs']))\n",
        "print('model_state_dict :: {}'.format(checkpoint['model_state_dict'].keys()))\n",
        "print('optimizer_state_dict :: {}'.format(checkpoint['optimizer_state_dict']))\n",
        "print('train_loss :: {}'.format(checkpoint['train_loss'][0]))\n",
        "print('test_accuracy :: {}%'.format(checkpoint['test_accuracy']))"
      ],
      "metadata": {
        "colab": {
          "base_uri": "https://localhost:8080/"
        },
        "id": "GXeLTeImTp7i",
        "outputId": "72dcb0ed-9263-4011-d5ff-4d94ed85a7c9"
      },
      "execution_count": 105,
      "outputs": [
        {
          "output_type": "stream",
          "name": "stdout",
          "text": [
            "epochs :: 10\n",
            "model_state_dict :: odict_keys(['layer.layer_0.weight', 'layer.layer_0.bias', 'layer.layer_1.weight', 'layer.layer_1.bias', 'layer.layer_2.weight', 'layer.layer_2.bias', 'layer.final_layer.weight', 'layer.final_layer.bias'])\n",
            "optimizer_state_dict :: {'state': {0: {'momentum_buffer': None}, 1: {'momentum_buffer': None}, 2: {'momentum_buffer': None}, 3: {'momentum_buffer': None}, 4: {'momentum_buffer': None}, 5: {'momentum_buffer': None}, 6: {'momentum_buffer': None}, 7: {'momentum_buffer': None}}, 'param_groups': [{'lr': 0.1, 'momentum': 0, 'dampening': 0, 'weight_decay': 0, 'nesterov': False, 'maximize': False, 'foreach': None, 'differentiable': False, 'params': [0, 1, 2, 3, 4, 5, 6, 7]}]}\n",
            "train_loss :: 0.17400439557130054\n",
            "test_accuracy :: 92.63999938964844%\n"
          ]
        }
      ]
    }
  ],
  "metadata": {
    "accelerator": "GPU",
    "colab": {
      "provenance": [],
      "gpuType": "T4",
      "authorship_tag": "ABX9TyMJu2mVveXEfhyVkfFcWNl3",
      "include_colab_link": true
    },
    "kernelspec": {
      "display_name": "Python 3",
      "name": "python3"
    },
    "language_info": {
      "name": "python"
    }
  },
  "nbformat": 4,
  "nbformat_minor": 0
}