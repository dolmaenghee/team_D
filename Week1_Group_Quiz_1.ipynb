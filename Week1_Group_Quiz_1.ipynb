{
  "nbformat": 4,
  "nbformat_minor": 0,
  "metadata": {
    "colab": {
      "provenance": [],
      "include_colab_link": true
    },
    "kernelspec": {
      "name": "python3",
      "display_name": "Python 3"
    },
    "language_info": {
      "name": "python"
    }
  },
  "cells": [
    {
      "cell_type": "markdown",
      "metadata": {
        "id": "view-in-github",
        "colab_type": "text"
      },
      "source": [
        "<a href=\"https://colab.research.google.com/github/dolmaenghee/team_D/blob/main/Week1_Group_Quiz_1.ipynb\" target=\"_parent\"><img src=\"https://colab.research.google.com/assets/colab-badge.svg\" alt=\"Open In Colab\"/></a>"
      ]
    },
    {
      "cell_type": "code",
      "source": [
        "import numpy as np\n",
        "\n",
        "true_b = 1\n",
        "true_w = 2\n",
        "N = 100 # number of data\n",
        "np.random.seed(42)\n",
        "x = np.random.rand(N,1)\n",
        "epsilon = (0.1 * np.random.randn(N,1)) #N,1차원\n",
        "y = true_b + true_w * x + epsilon\n",
        "\n",
        "idx = np.arange(N)\n",
        "split_index = int(N*0.8)\n",
        "\n",
        "train_idx = idx[:split_index]\n",
        "val_idx = idx[split_index:]\n",
        "\n",
        "x_train, y_train = x[train_idx], y[train_idx]\n",
        "x_val, y_val = x[val_idx], y[val_idx]"
      ],
      "metadata": {
        "id": "lDUqWIeQLkWd"
      },
      "execution_count": null,
      "outputs": []
    },
    {
      "cell_type": "code",
      "source": [
        "device = torch.device('cuda' if torch.cuda.is_available() else 'cpu')\n",
        "\n",
        "x_train_tensor, y_train_tensor = torch.tensor(x_train), torch.tensor(y_train)\n",
        "x_val_tensor, y_val_tensor = torch.tensor(x_val), torch.tensor(y_val)"
      ],
      "metadata": {
        "id": "339j38zjL0eQ"
      },
      "execution_count": null,
      "outputs": []
    },
    {
      "cell_type": "code",
      "source": [
        "import torch.optim as optim\n",
        "import torch.nn as nn"
      ],
      "metadata": {
        "id": "6Ye5TzdKMhZS"
      },
      "execution_count": null,
      "outputs": []
    },
    {
      "cell_type": "code",
      "source": [
        "def train_model_torch(lr = 0.1, epochs = 1000):\n",
        "    #float 64 = double\n",
        "    #float 32 = float\n",
        "    b = torch.randn(1, requires_grad=True, dtype = torch.float, device=device)\n",
        "    w = torch.randn(1, requires_grad=True, dtype = torch.float, device=device)\n",
        "    parameters = [b,w]\n",
        "    mse_loss = nn.MSELoss()\n",
        "    optimizer = optim.SGD(parameters, lr)\n",
        "\n",
        "    for epoch in range(epochs):\n",
        "        y_hat = b + w * x_train_tensor\n",
        "        loss = mse_loss(y_hat, y_train_tensor)\n",
        "        loss.backward()\n",
        "        #with 문 사라짐. optimizer.step안에 포함되어 있음.\n",
        "        optimizer.step()\n",
        "        optimizer.zero_grad()\n",
        "    return b, w"
      ],
      "metadata": {
        "id": "H4JAZxCILplt"
      },
      "execution_count": null,
      "outputs": []
    },
    {
      "cell_type": "code",
      "source": [
        "b, w =train_model_torch()"
      ],
      "metadata": {
        "id": "aaSiuvXYMGX3"
      },
      "execution_count": null,
      "outputs": []
    },
    {
      "cell_type": "code",
      "source": [
        "def test():\n",
        "  y_hat = b+w*x_val_tensor\n",
        "  error = y_hat - y_val_tensor\n",
        "  mse_loss = torch.mean(error**2)\n",
        "\n",
        "  print(mse_loss)"
      ],
      "metadata": {
        "id": "80okoRYUMLu-"
      },
      "execution_count": null,
      "outputs": []
    },
    {
      "cell_type": "code",
      "source": [
        "test()"
      ],
      "metadata": {
        "colab": {
          "base_uri": "https://localhost:8080/"
        },
        "id": "UdTE2sfnNW50",
        "outputId": "50046710-f2ce-4fe0-8a23-06f52063e354"
      },
      "execution_count": null,
      "outputs": [
        {
          "output_type": "stream",
          "name": "stdout",
          "text": [
            "tensor(0.0098, dtype=torch.float64, grad_fn=<MeanBackward0>)\n"
          ]
        }
      ]
    }
  ]
}