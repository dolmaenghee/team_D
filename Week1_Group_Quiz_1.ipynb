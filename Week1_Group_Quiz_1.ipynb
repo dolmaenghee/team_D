{
  "nbformat": 4,
  "nbformat_minor": 0,
  "metadata": {
    "colab": {
      "provenance": [],
      "include_colab_link": true
    },
    "kernelspec": {
      "name": "python3",
      "display_name": "Python 3"
    },
    "language_info": {
      "name": "python"
    }
  },
  "cells": [
    {
      "cell_type": "markdown",
      "metadata": {
        "id": "view-in-github",
        "colab_type": "text"
      },
      "source": [
        "<a href=\"https://colab.research.google.com/github/dolmaenghee/team_D/blob/main/Week1_Group_Quiz_1.ipynb\" target=\"_parent\"><img src=\"https://colab.research.google.com/assets/colab-badge.svg\" alt=\"Open In Colab\"/></a>"
      ]
    },
    {
      "cell_type": "code",
      "source": [
        "from google.colab import drive\n",
        "drive.mount('/content/drive')"
      ],
      "metadata": {
        "colab": {
          "base_uri": "https://localhost:8080/"
        },
        "id": "Hl3kn8_fLIMk",
        "outputId": "480c08a2-34ee-4fc6-f405-a65ff241a929"
      },
      "execution_count": null,
      "outputs": [
        {
          "output_type": "stream",
          "name": "stdout",
          "text": [
            "Drive already mounted at /content/drive; to attempt to forcibly remount, call drive.mount(\"/content/drive\", force_remount=True).\n"
          ]
        }
      ]
    },
    {
      "cell_type": "code",
      "source": [
        "%cd /content/drive/MyDrive/딥러닝스터디D조"
      ],
      "metadata": {
        "colab": {
          "base_uri": "https://localhost:8080/"
        },
        "id": "vQy8mzNrLL6D",
        "outputId": "574bf82f-f696-4365-c423-21b8cf7479ff"
      },
      "execution_count": null,
      "outputs": [
        {
          "output_type": "stream",
          "name": "stdout",
          "text": [
            "/content/drive/.shortcut-targets-by-id/1X7EGLZnMHnL1o_QChtkT4wfqTT9Wsos6/딥러닝스터디D조\n"
          ]
        }
      ]
    },
    {
      "cell_type": "code",
      "execution_count": null,
      "metadata": {
        "id": "8WD9DJ-5HzdW"
      },
      "outputs": [],
      "source": [
        "import torch\n",
        "import pickle\n",
        "with open('quiz_data.pkl', 'rb') as f:\n",
        "    data = pickle.load(f)"
      ]
    },
    {
      "cell_type": "code",
      "source": [],
      "metadata": {
        "colab": {
          "base_uri": "https://localhost:8080/"
        },
        "id": "B6NKtw5TLSPE",
        "outputId": "ecb7a060-666c-4aa0-8e2f-9a38ac33b927"
      },
      "execution_count": null,
      "outputs": [
        {
          "output_type": "execute_result",
          "data": {
            "text/plain": [
              "{'x': array([[0.37454012],\n",
              "        [0.95071431],\n",
              "        [0.73199394],\n",
              "        [0.59865848],\n",
              "        [0.15601864],\n",
              "        [0.15599452],\n",
              "        [0.05808361],\n",
              "        [0.86617615],\n",
              "        [0.60111501],\n",
              "        [0.70807258],\n",
              "        [0.02058449],\n",
              "        [0.96990985],\n",
              "        [0.83244264],\n",
              "        [0.21233911],\n",
              "        [0.18182497],\n",
              "        [0.18340451],\n",
              "        [0.30424224],\n",
              "        [0.52475643],\n",
              "        [0.43194502],\n",
              "        [0.29122914],\n",
              "        [0.61185289],\n",
              "        [0.13949386],\n",
              "        [0.29214465],\n",
              "        [0.36636184],\n",
              "        [0.45606998],\n",
              "        [0.78517596],\n",
              "        [0.19967378],\n",
              "        [0.51423444],\n",
              "        [0.59241457],\n",
              "        [0.04645041],\n",
              "        [0.60754485],\n",
              "        [0.17052412],\n",
              "        [0.06505159],\n",
              "        [0.94888554],\n",
              "        [0.96563203],\n",
              "        [0.80839735],\n",
              "        [0.30461377],\n",
              "        [0.09767211],\n",
              "        [0.68423303],\n",
              "        [0.44015249],\n",
              "        [0.12203823],\n",
              "        [0.49517691],\n",
              "        [0.03438852],\n",
              "        [0.9093204 ],\n",
              "        [0.25877998],\n",
              "        [0.66252228],\n",
              "        [0.31171108],\n",
              "        [0.52006802],\n",
              "        [0.54671028],\n",
              "        [0.18485446],\n",
              "        [0.96958463],\n",
              "        [0.77513282],\n",
              "        [0.93949894],\n",
              "        [0.89482735],\n",
              "        [0.59789998],\n",
              "        [0.92187424],\n",
              "        [0.0884925 ],\n",
              "        [0.19598286],\n",
              "        [0.04522729],\n",
              "        [0.32533033],\n",
              "        [0.38867729],\n",
              "        [0.27134903],\n",
              "        [0.82873751],\n",
              "        [0.35675333],\n",
              "        [0.28093451],\n",
              "        [0.54269608],\n",
              "        [0.14092422],\n",
              "        [0.80219698],\n",
              "        [0.07455064],\n",
              "        [0.98688694],\n",
              "        [0.77224477],\n",
              "        [0.19871568],\n",
              "        [0.00552212],\n",
              "        [0.81546143],\n",
              "        [0.70685734],\n",
              "        [0.72900717],\n",
              "        [0.77127035],\n",
              "        [0.07404465],\n",
              "        [0.35846573],\n",
              "        [0.11586906],\n",
              "        [0.86310343],\n",
              "        [0.62329813],\n",
              "        [0.33089802],\n",
              "        [0.06355835],\n",
              "        [0.31098232],\n",
              "        [0.32518332],\n",
              "        [0.72960618],\n",
              "        [0.63755747],\n",
              "        [0.88721274],\n",
              "        [0.47221493],\n",
              "        [0.11959425],\n",
              "        [0.71324479],\n",
              "        [0.76078505],\n",
              "        [0.5612772 ],\n",
              "        [0.77096718],\n",
              "        [0.4937956 ],\n",
              "        [0.52273283],\n",
              "        [0.42754102],\n",
              "        [0.02541913],\n",
              "        [0.10789143]]),\n",
              " 'y': array([[ 0.39740272],\n",
              "        [-0.80659469],\n",
              "        [-0.57963137],\n",
              "        [-0.32014731],\n",
              "        [-0.30604728],\n",
              "        [-0.24852583],\n",
              "        [-1.01513649],\n",
              "        [-0.88464384],\n",
              "        [-0.21122138],\n",
              "        [-0.56400827],\n",
              "        [-1.7572808 ],\n",
              "        [-0.70538406],\n",
              "        [-0.85895685],\n",
              "        [ 0.07962529],\n",
              "        [-0.11814555],\n",
              "        [-0.02216425],\n",
              "        [ 0.25552963],\n",
              "        [ 0.09771934],\n",
              "        [ 0.30588558],\n",
              "        [ 0.15249783],\n",
              "        [-0.14021974],\n",
              "        [-0.37066187],\n",
              "        [ 0.30141278],\n",
              "        [ 0.36479936],\n",
              "        [ 0.16292608],\n",
              "        [-0.76869594],\n",
              "        [-0.06715923],\n",
              "        [ 0.08165268],\n",
              "        [-0.11478902],\n",
              "        [-1.28560927],\n",
              "        [ 0.03465185],\n",
              "        [-0.17597336],\n",
              "        [-1.05011945],\n",
              "        [-0.78730071],\n",
              "        [-0.93952918],\n",
              "        [-0.77396765],\n",
              "        [ 0.33245372],\n",
              "        [-0.48877083],\n",
              "        [-0.45248586],\n",
              "        [ 0.3627963 ],\n",
              "        [-0.53126193],\n",
              "        [ 0.09789998],\n",
              "        [-1.41588552],\n",
              "        [-0.7517937 ],\n",
              "        [ 0.28930683],\n",
              "        [-0.44708815],\n",
              "        [ 0.47924073],\n",
              "        [ 0.00446956],\n",
              "        [ 0.1193383 ],\n",
              "        [ 0.10804461],\n",
              "        [-0.83804352],\n",
              "        [-0.76078996],\n",
              "        [-0.7847511 ],\n",
              "        [-0.88450263],\n",
              "        [-0.27368766],\n",
              "        [-0.80957073],\n",
              "        [-0.92846448],\n",
              "        [-0.00431916],\n",
              "        [-1.43673296],\n",
              "        [ 0.51398353],\n",
              "        [ 0.30707671],\n",
              "        [ 0.21602728],\n",
              "        [-0.72009926],\n",
              "        [ 0.26240732],\n",
              "        [ 0.2968344 ],\n",
              "        [ 0.20453271],\n",
              "        [-0.54734397],\n",
              "        [-0.74195656],\n",
              "        [-0.94079815],\n",
              "        [-0.61815339],\n",
              "        [-0.82106208],\n",
              "        [-0.16976921],\n",
              "        [-2.52243241],\n",
              "        [-0.7530741 ],\n",
              "        [-0.48480355],\n",
              "        [-0.54517783],\n",
              "        [-0.76304493],\n",
              "        [-0.94913078],\n",
              "        [ 0.41547332],\n",
              "        [-0.64880024],\n",
              "        [-0.64490126],\n",
              "        [-0.16473111],\n",
              "        [ 0.24654264],\n",
              "        [-1.02832088],\n",
              "        [ 0.24027291],\n",
              "        [ 0.43751032],\n",
              "        [-0.46577423],\n",
              "        [-0.34689705],\n",
              "        [-0.73945132],\n",
              "        [ 0.31204725],\n",
              "        [-0.46500726],\n",
              "        [-0.34091873],\n",
              "        [-0.69355634],\n",
              "        [-0.06379239],\n",
              "        [-0.78326735],\n",
              "        [ 0.13680493],\n",
              "        [ 0.12892567],\n",
              "        [ 0.3852903 ],\n",
              "        [-1.69389652],\n",
              "        [-0.56155958]])}"
            ]
          },
          "metadata": {},
          "execution_count": 5
        }
      ]
    },
    {
      "cell_type": "code",
      "source": [],
      "metadata": {
        "id": "EwtJu05DN3sb"
      },
      "execution_count": null,
      "outputs": []
    },
    {
      "cell_type": "code",
      "source": [
        "import numpy as np\n",
        "\n",
        "true_b = 1\n",
        "true_w = 2\n",
        "N = 100 # number of data\n",
        "np.random.seed(42)\n",
        "x = np.random.rand(N,1)\n",
        "epsilon = (0.1 * np.random.randn(N,1)) #N,1차원\n",
        "y = true_b + true_w * x + epsilon\n",
        "\n",
        "idx = np.arange(N)\n",
        "split_index = int(N*0.8)\n",
        "\n",
        "train_idx = idx[:split_index]\n",
        "val_idx = idx[split_index:]\n",
        "\n",
        "x_train, y_train = x[train_idx], y[train_idx]\n",
        "x_val, y_val = x[val_idx], y[val_idx]"
      ],
      "metadata": {
        "id": "lDUqWIeQLkWd"
      },
      "execution_count": null,
      "outputs": []
    },
    {
      "cell_type": "code",
      "source": [
        "device = torch.device('cuda' if torch.cuda.is_available() else 'cpu')\n",
        "\n",
        "x_train_tensor, y_train_tensor = torch.tensor(x_train), torch.tensor(y_train)\n",
        "x_val_tensor, y_val_tensor = torch.tensor(x_val), torch.tensor(y_val)"
      ],
      "metadata": {
        "id": "339j38zjL0eQ"
      },
      "execution_count": null,
      "outputs": []
    },
    {
      "cell_type": "code",
      "source": [
        "import torch.optim as optim\n",
        "import torch.nn as nn"
      ],
      "metadata": {
        "id": "6Ye5TzdKMhZS"
      },
      "execution_count": null,
      "outputs": []
    },
    {
      "cell_type": "code",
      "source": [
        "def train_model_torch(lr = 0.1, epochs = 1000):\n",
        "    #float 64 = double\n",
        "    #float 32 = float\n",
        "    b = torch.randn(1, requires_grad=True, dtype = torch.float, device=device)\n",
        "    w = torch.randn(1, requires_grad=True, dtype = torch.float, device=device)\n",
        "    parameters = [b,w]\n",
        "    mse_loss = nn.MSELoss()\n",
        "    optimizer = optim.SGD(parameters, lr)\n",
        "\n",
        "    for epoch in range(epochs):\n",
        "        y_hat = b + w * x_train_tensor\n",
        "        loss = mse_loss(y_hat, y_train_tensor)\n",
        "        loss.backward()\n",
        "        #with 문 사라짐. optimizer.step안에 포함되어 있음.\n",
        "        optimizer.step()\n",
        "        optimizer.zero_grad()\n",
        "    return b, w"
      ],
      "metadata": {
        "id": "H4JAZxCILplt"
      },
      "execution_count": null,
      "outputs": []
    },
    {
      "cell_type": "code",
      "source": [
        "b, w =train_model_torch()"
      ],
      "metadata": {
        "id": "aaSiuvXYMGX3"
      },
      "execution_count": null,
      "outputs": []
    },
    {
      "cell_type": "code",
      "source": [
        "def test():\n",
        "  y_hat = b+w*x_val_tensor\n",
        "  error = y_hat - y_val_tensor\n",
        "  mse_loss = torch.mean(error**2)\n",
        "\n",
        "  print(mse_loss)"
      ],
      "metadata": {
        "id": "80okoRYUMLu-"
      },
      "execution_count": null,
      "outputs": []
    },
    {
      "cell_type": "code",
      "source": [
        "test()"
      ],
      "metadata": {
        "colab": {
          "base_uri": "https://localhost:8080/"
        },
        "id": "UdTE2sfnNW50",
        "outputId": "50046710-f2ce-4fe0-8a23-06f52063e354"
      },
      "execution_count": null,
      "outputs": [
        {
          "output_type": "stream",
          "name": "stdout",
          "text": [
            "tensor(0.0098, dtype=torch.float64, grad_fn=<MeanBackward0>)\n"
          ]
        }
      ]
    }
  ]
}